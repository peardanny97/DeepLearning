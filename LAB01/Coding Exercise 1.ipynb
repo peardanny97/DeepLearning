{
 "cells": [
  {
   "cell_type": "markdown",
   "metadata": {},
   "source": [
    "# 1. Load & visualize the data"
   ]
  },
  {
   "cell_type": "code",
   "execution_count": 2,
   "metadata": {},
   "outputs": [],
   "source": [
    "import numpy as np\n",
    "import matplotlib.pyplot as plt"
   ]
  },
  {
   "cell_type": "code",
   "execution_count": 3,
   "metadata": {},
   "outputs": [],
   "source": [
    "# Load the data from the file \"example_data.csv\"\n",
    "# Finally we need to load variables data_x(first column), data_y(second column)\n",
    "\n",
    "###################################################################################\n",
    "#                                   YOUR CODE HERE                                #\n",
    "###################################################################################\n",
    "\n",
    "\n",
    "xy = np.loadtxt('example_data.csv',delimiter = ',', dtype = np.float32)\n",
    "\n",
    "data_x = xy[:,0]\n",
    "data_y = xy[:,1]\n",
    "\n",
    "###################################################################################\n",
    "#                                  END OF YOUR CODE                               #\n",
    "###################################################################################\n"
   ]
  },
  {
   "cell_type": "code",
   "execution_count": 4,
   "metadata": {},
   "outputs": [
    {
     "data": {
      "image/png": "[encoded data removed]",
      "text/plain": [
       "<Figure size 432x288 with 1 Axes>"
      ]
     },
     "metadata": {
      "needs_background": "light"
     },
     "output_type": "display_data"
    }
   ],
   "source": [
    "# Make a scatter plot of training data to visualize the data\n",
    "\n",
    "###################################################################################\n",
    "#                                   YOUR CODE HERE                                #\n",
    "###################################################################################\n",
    "plt.scatter(data_x,data_y)\n",
    "\n",
    "plt.show()\n",
    "\n",
    "###################################################################################\n",
    "#                                  END OF YOUR CODE                               #\n",
    "###################################################################################"
   ]
  },
  {
   "cell_type": "markdown",
   "metadata": {},
   "source": [
    "# 2. Implement LMS algorithm"
   ]
  },
  {
   "cell_type": "code",
   "execution_count": 5,
   "metadata": {},
   "outputs": [],
   "source": [
    "# Define Cost function J\n",
    "def cost(x, y, theta):\n",
    "    # Compute cost for linear regression\n",
    "    # J is the cost using theta as the parameter for linear regression to fit the data points in X and y\n",
    "\n",
    "    ###################################################################################\n",
    "    #                                   YOUR CODE HERE                                #\n",
    "    ###################################################################################\n",
    "    m = len(x)\n",
    "    h = np.dot(x, theta[0]) + theta[1]\n",
    "    error = y - h\n",
    "    J = np.sum(error ** 2) / 2\n",
    "        \n",
    "    ###################################################################################\n",
    "    #                                  END OF YOUR CODE                               #\n",
    "    ###################################################################################\n",
    "\n",
    "    return J"
   ]
  },
  {
   "cell_type": "code",
   "execution_count": 8,
   "metadata": {},
   "outputs": [],
   "source": [
    "# Implement Gradient descent algorithm\n",
    "def gradient_descent(x, y, theta, alpha, num_iters):\n",
    "    # gradient_descent performs gradient descent to learn theta\n",
    "    # gradient_descent updates theta by taking num_iters gradient steps with learning rate alpha\n",
    "    \n",
    "    for iter in range(num_iters):\n",
    "\n",
    "        ###################################################################################\n",
    "        #                                   YOUR CODE HERE                                #\n",
    "        ###################################################################################\n",
    "        \n",
    "        x_trans = x.transpose()\n",
    "        m = len(x)\n",
    "        x_0 = np.ones((1,m))\n",
    "\n",
    "        h = np.dot(x, theta[0]) + theta[1]\n",
    "        error = y - h\n",
    "        g = np.dot(x_trans, error)\n",
    "        g2 = np.dot(x_0,error)\n",
    "\n",
    "        theta[0] = theta[0] + alpha * g\n",
    "        theta[1] = theta[1] + alpha * g2\n",
    "        \n",
    "        ################################################w###################################\n",
    "        #                                  END OF YOUR CODE                               #\n",
    "        ###################################################################################\n",
    "\n",
    "        # Save the cost J in every iteration    \n",
    "        J = cost(x, y, theta)\n",
    "        \n",
    "        if (iter+1)%100 == 0:\n",
    "            print('cost at %d iterations : %f' %(iter+1, J))\n",
    "        \n",
    "    return theta"
   ]
  },
  {
   "cell_type": "code",
   "execution_count": 9,
   "metadata": {},
   "outputs": [
    {
     "name": "stdout",
     "output_type": "stream",
     "text": [
      "initial cost : 3111.055219\n",
      "cost at 100 iterations : 532.617490\n",
      "cost at 200 iterations : 503.572513\n",
      "cost at 300 iterations : 483.105061\n",
      "cost at 400 iterations : 468.682032\n",
      "cost at 500 iterations : 458.518393\n",
      "cost at 600 iterations : 451.356267\n",
      "cost at 700 iterations : 446.309251\n",
      "cost at 800 iterations : 442.752713\n",
      "cost at 900 iterations : 440.246487\n",
      "cost at 1000 iterations : 438.480397\n",
      "cost at 1100 iterations : 437.235867\n",
      "cost at 1200 iterations : 436.358869\n",
      "cost at 1300 iterations : 435.740865\n",
      "cost at 1400 iterations : 435.305370\n",
      "cost at 1500 iterations : 434.998484\n",
      "cost at 1600 iterations : 434.782228\n",
      "cost at 1700 iterations : 434.629836\n",
      "cost at 1800 iterations : 434.522448\n",
      "cost at 1900 iterations : 434.446774\n",
      "cost at 2000 iterations : 434.393448\n",
      "updated theta :  [ 1.18097453 -3.77574273]\n",
      "updated cost : 434.393448\n"
     ]
    }
   ],
   "source": [
    "# initialize values\n",
    "theta = np.zeros(2)\n",
    "num_iters = 2000\n",
    "alpha = 0.0001\n",
    "\n",
    "# compute initial cost\n",
    "init_J = cost(data_x, data_y, theta)\n",
    "print('initial cost : %f' %init_J)\n",
    "\n",
    "# excute gradient descent\n",
    "theta = gradient_descent(data_x, data_y, theta, alpha, num_iters)\n",
    "\n",
    "# compute new cost\n",
    "new_J = cost(data_x, data_y, theta)\n",
    "print('updated theta : ', theta)\n",
    "print('updated cost : %f' %new_J)"
   ]
  },
  {
   "cell_type": "markdown",
   "metadata": {},
   "source": [
    "# 3. Plot the linear regression fit"
   ]
  },
  {
   "cell_type": "code",
   "execution_count": 10,
   "metadata": {},
   "outputs": [
    {
     "data": {
      "image/png": "[encoded data removed]",
      "text/plain": [
       "<Figure size 432x288 with 1 Axes>"
      ]
     },
     "metadata": {
      "needs_background": "light"
     },
     "output_type": "display_data"
    }
   ],
   "source": [
    "# Plot the scatter plot and linear regression fit\n",
    "\n",
    "###################################################################################\n",
    "#                                   YOUR CODE HERE                                #\n",
    "###################################################################################\n",
    "\n",
    "x_plot = np.arange(5,22.5)\n",
    "y_plot = theta[0]*x_plot + theta[1]\n",
    "plt.plot(x_plot,y_plot)\n",
    "plt.scatter(data_x,data_y)\n",
    "plt.show()\n",
    "\n",
    "###################################################################################\n",
    "#                                  END OF YOUR CODE                               #\n",
    "###################################################################################"
   ]
  },
  {
   "cell_type": "code",
   "execution_count": null,
   "metadata": {},
   "outputs": [],
   "source": []
  },
  {
   "cell_type": "code",
   "execution_count": null,
   "metadata": {},
   "outputs": [],
   "source": []
  }
 ],
 "metadata": {
  "kernelspec": {
   "display_name": "Python 3",
   "language": "python",
   "name": "python3"
  },
  "language_info": {
   "codemirror_mode": {
    "name": "ipython",
    "version": 3
   },
   "file_extension": ".py",
   "mimetype": "text/x-python",
   "name": "python",
   "nbconvert_exporter": "python",
   "pygments_lexer": "ipython3",
   "version": "3.8.5"
  }
 },
 "nbformat": 4,
 "nbformat_minor": 2
}
