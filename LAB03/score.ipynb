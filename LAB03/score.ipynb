{
 "cells": [
  {
   "cell_type": "code",
   "execution_count": 1,
   "metadata": {},
   "outputs": [
    {
     "name": "stdout",
     "output_type": "stream",
     "text": [
      "importing Jupyter notebook from main.ipynb\n"
     ]
    }
   ],
   "source": [
    "import numpy as np\n",
    "import tensorflow as tf\n",
    "import tensorflow_datasets as tfds\n",
    "import pdb\n",
    "import import_ipynb\n",
    "from main import TensorflowCNN"
   ]
  },
  {
   "cell_type": "code",
   "execution_count": 2,
   "metadata": {},
   "outputs": [],
   "source": [
    "IMAGE_SIZE = [20, 20]\n",
    "IPT_SIZE = 30\n",
    "MODEL_PATH = 'model'\n",
    "PRECISION_ERROR = 1e-5\n",
    "MIN_ACCURACY = 0.5\n",
    "BATCH_SIZE = 100\n",
    "\n",
    "INFERENCE_SCORE = 0.4\n",
    "UPDATE_SCORE = 0.3\n",
    "RESTORE_SCORE = 0.3"
   ]
  },
  {
   "cell_type": "code",
   "execution_count": 3,
   "metadata": {},
   "outputs": [],
   "source": [
    "def check(seed, channels, kernel_sizes, learning_rate):\n",
    "    # parameter validation check\n",
    "    if len(channels) != len(kernel_sizes) + 1 or \\\n",
    "        len(np.shape(kernel_sizes)) != 2 or np.shape(kernel_sizes)[-1] != 2 or \\\n",
    "        len(np.shape(channels)) != 1:\n",
    "        raise ValueError\n",
    "    if np.array(channels).dtype != np.int or np.array(kernel_sizes).dtype != np.int:\n",
    "        raise ValueError\n",
    "    if type(seed) != int or type(learning_rate) != float:\n",
    "        raise ValueError\n",
    "        \n",
    "    # build reference model\n",
    "    tf.random.set_seed(seed)\n",
    "    reference_model = tf.keras.models.Sequential()\n",
    "    for layer_idx, size in enumerate(kernel_sizes):\n",
    "        in_channels, out_channels = channels[layer_idx], channels[layer_idx + 1]\n",
    "        height, width = size\n",
    "        layer = tf.keras.layers.Conv2D(\n",
    "            filters=out_channels, \n",
    "            kernel_size=[height, width], \n",
    "            use_bias = False, \n",
    "            input_shape=[None, None, in_channels], \n",
    "            activation='relu', \n",
    "            padding='valid')\n",
    "        reference_model.add(layer)\n",
    "    reference_model.add(tf.keras.layers.GlobalAvgPool2D())\n",
    "    reference_model.add(tf.keras.layers.Softmax())\n",
    "    \n",
    "    # compile reference model\n",
    "    optimizer = tf.keras.optimizers.SGD(learning_rate=learning_rate)\n",
    "    loss_fn = tf.keras.losses.SparseCategoricalCrossentropy()\n",
    "    reference_model.compile(optimizer=optimizer, loss=loss_fn)\n",
    "    \n",
    "    # target model\n",
    "    filter_list = np.concatenate([layer.weights for layer in reference_model.layers])\n",
    "    filter_list = [tf.Variable(variable) for variable in filter_list]\n",
    "    target_model = TensorflowCNN(filter_list, learning_rate)\n",
    "    \n",
    "    # check\n",
    "    np.random.seed(seed)\n",
    "    images = np.random.rand(IPT_SIZE, *IMAGE_SIZE, channels[0])\n",
    "    labels = np.random.randint(0, channels[-1], IPT_SIZE)\n",
    "    score = 0\n",
    "    \n",
    "    # check inference\n",
    "    error = tf.reduce_sum(tf.abs(reference_model(images) - target_model(images)))\n",
    "    if error <= PRECISION_ERROR:\n",
    "        score += INFERENCE_SCORE\n",
    "        \n",
    "    # check training\n",
    "    target_model.save()\n",
    "    reference_model.save('reference_model')\n",
    "    target_model.fit(images, labels, 1)\n",
    "    reference_model.fit(images, labels, IPT_SIZE, 1)\n",
    "    error = tf.reduce_sum(tf.abs(reference_model(images) - target_model(images)))\n",
    "    if error <= PRECISION_ERROR:\n",
    "        score += UPDATE_SCORE\n",
    "        \n",
    "    # check restore\n",
    "    target_model.restore()\n",
    "    reference_model = tf.keras.models.load_model('reference_model')\n",
    "    error = tf.reduce_sum(tf.abs(reference_model(images) - target_model(images)))\n",
    "    if error <= PRECISION_ERROR:\n",
    "        score += RESTORE_SCORE\n",
    "    return score\n",
    "\n",
    "def evaluate(testset):\n",
    "    # load model\n",
    "    loaded_model = None\n",
    "    try:\n",
    "        loaded_model = tf.saved_model.load(MODEL_PATH)\n",
    "    except:\n",
    "        return 0.0\n",
    "    \n",
    "    # evaluate\n",
    "    metric = tf.keras.metrics.SparseCategoricalAccuracy()\n",
    "    for batch in testset.batch(BATCH_SIZE):\n",
    "        image, label = batch['image'], batch['label']\n",
    "        image = tf.cast(image, tf.float32)\n",
    "        pred = loaded_model(image)\n",
    "        metric.update_state(label, pred)\n",
    "    if metric.result().numpy() < MIN_ACCURACY:\n",
    "        return 0.0\n",
    "    \n",
    "    return 1.0"
   ]
  },
  {
   "cell_type": "code",
   "execution_count": 4,
   "metadata": {},
   "outputs": [
    {
     "ename": "ValueError",
     "evalue": "setting an array element with a sequence.",
     "output_type": "error",
     "traceback": [
      "\u001B[0;31m---------------------------------------------------------------------------\u001B[0m",
      "\u001B[0;31mTypeError\u001B[0m                                 Traceback (most recent call last)",
      "\u001B[0;32m~/opt/anaconda3/envs/pythonProject/lib/python3.6/site-packages/tensorflow/python/ops/resource_variable_ops.py\u001B[0m in \u001B[0;36m__float__\u001B[0;34m(self)\u001B[0m\n\u001B[1;32m   1381\u001B[0m   \u001B[0;32mdef\u001B[0m \u001B[0m__float__\u001B[0m\u001B[0;34m(\u001B[0m\u001B[0mself\u001B[0m\u001B[0;34m)\u001B[0m\u001B[0;34m:\u001B[0m\u001B[0;34m\u001B[0m\u001B[0;34m\u001B[0m\u001B[0m\n\u001B[0;32m-> 1382\u001B[0;31m     \u001B[0;32mreturn\u001B[0m \u001B[0mfloat\u001B[0m\u001B[0;34m(\u001B[0m\u001B[0mself\u001B[0m\u001B[0;34m.\u001B[0m\u001B[0mvalue\u001B[0m\u001B[0;34m(\u001B[0m\u001B[0;34m)\u001B[0m\u001B[0;34m.\u001B[0m\u001B[0mnumpy\u001B[0m\u001B[0;34m(\u001B[0m\u001B[0;34m)\u001B[0m\u001B[0;34m)\u001B[0m\u001B[0;34m\u001B[0m\u001B[0;34m\u001B[0m\u001B[0m\n\u001B[0m\u001B[1;32m   1383\u001B[0m \u001B[0;34m\u001B[0m\u001B[0m\n",
      "\u001B[0;31mTypeError\u001B[0m: only size-1 arrays can be converted to Python scalars",
      "\nThe above exception was the direct cause of the following exception:\n",
      "\u001B[0;31mValueError\u001B[0m                                Traceback (most recent call last)",
      "\u001B[0;32m<ipython-input-4-5b63e8a8b63e>\u001B[0m in \u001B[0;36m<module>\u001B[0;34m\u001B[0m\n\u001B[1;32m      1\u001B[0m \u001B[0mscore\u001B[0m \u001B[0;34m=\u001B[0m \u001B[0;36m0\u001B[0m\u001B[0;34m\u001B[0m\u001B[0;34m\u001B[0m\u001B[0m\n\u001B[0;32m----> 2\u001B[0;31m \u001B[0mscore\u001B[0m \u001B[0;34m+=\u001B[0m \u001B[0mcheck\u001B[0m\u001B[0;34m(\u001B[0m\u001B[0;36m1\u001B[0m\u001B[0;34m,\u001B[0m \u001B[0;34m[\u001B[0m\u001B[0;36m4\u001B[0m\u001B[0;34m,\u001B[0m \u001B[0;36m5\u001B[0m\u001B[0;34m]\u001B[0m\u001B[0;34m,\u001B[0m \u001B[0;34m[\u001B[0m\u001B[0;34m[\u001B[0m\u001B[0;36m3\u001B[0m\u001B[0;34m,\u001B[0m\u001B[0;36m3\u001B[0m\u001B[0;34m]\u001B[0m\u001B[0;34m]\u001B[0m\u001B[0;34m,\u001B[0m \u001B[0;36m1e-3\u001B[0m\u001B[0;34m)\u001B[0m \u001B[0;34m*\u001B[0m \u001B[0;36m5.0\u001B[0m\u001B[0;34m\u001B[0m\u001B[0;34m\u001B[0m\u001B[0m\n\u001B[0m\u001B[1;32m      3\u001B[0m \u001B[0;34m\u001B[0m\u001B[0m\n\u001B[1;32m      4\u001B[0m \u001B[0mtestset\u001B[0m \u001B[0;34m=\u001B[0m \u001B[0mtfds\u001B[0m\u001B[0;34m.\u001B[0m\u001B[0mload\u001B[0m\u001B[0;34m(\u001B[0m\u001B[0;34m'cifar100'\u001B[0m\u001B[0;34m,\u001B[0m \u001B[0msplit\u001B[0m\u001B[0;34m=\u001B[0m\u001B[0;34m'test'\u001B[0m\u001B[0;34m)\u001B[0m\u001B[0;34m\u001B[0m\u001B[0;34m\u001B[0m\u001B[0m\n\u001B[1;32m      5\u001B[0m \u001B[0mscore\u001B[0m \u001B[0;34m+=\u001B[0m \u001B[0mevaluate\u001B[0m\u001B[0;34m(\u001B[0m\u001B[0mtestset\u001B[0m\u001B[0;34m)\u001B[0m \u001B[0;34m*\u001B[0m \u001B[0;36m5.0\u001B[0m\u001B[0;34m\u001B[0m\u001B[0;34m\u001B[0m\u001B[0m\n",
      "\u001B[0;32m<ipython-input-3-7318fbf6da99>\u001B[0m in \u001B[0;36mcheck\u001B[0;34m(seed, channels, kernel_sizes, learning_rate)\u001B[0m\n\u001B[1;32m     33\u001B[0m \u001B[0;34m\u001B[0m\u001B[0m\n\u001B[1;32m     34\u001B[0m     \u001B[0;31m# target model\u001B[0m\u001B[0;34m\u001B[0m\u001B[0;34m\u001B[0m\u001B[0;34m\u001B[0m\u001B[0m\n\u001B[0;32m---> 35\u001B[0;31m     \u001B[0mfilter_list\u001B[0m \u001B[0;34m=\u001B[0m \u001B[0mnp\u001B[0m\u001B[0;34m.\u001B[0m\u001B[0mconcatenate\u001B[0m\u001B[0;34m(\u001B[0m\u001B[0;34m[\u001B[0m\u001B[0mlayer\u001B[0m\u001B[0;34m.\u001B[0m\u001B[0mweights\u001B[0m \u001B[0;32mfor\u001B[0m \u001B[0mlayer\u001B[0m \u001B[0;32min\u001B[0m \u001B[0mreference_model\u001B[0m\u001B[0;34m.\u001B[0m\u001B[0mlayers\u001B[0m\u001B[0;34m]\u001B[0m\u001B[0;34m)\u001B[0m\u001B[0;34m\u001B[0m\u001B[0;34m\u001B[0m\u001B[0m\n\u001B[0m\u001B[1;32m     36\u001B[0m     \u001B[0mfilter_list\u001B[0m \u001B[0;34m=\u001B[0m \u001B[0;34m[\u001B[0m\u001B[0mtf\u001B[0m\u001B[0;34m.\u001B[0m\u001B[0mVariable\u001B[0m\u001B[0;34m(\u001B[0m\u001B[0mvariable\u001B[0m\u001B[0;34m)\u001B[0m \u001B[0;32mfor\u001B[0m \u001B[0mvariable\u001B[0m \u001B[0;32min\u001B[0m \u001B[0mfilter_list\u001B[0m\u001B[0;34m]\u001B[0m\u001B[0;34m\u001B[0m\u001B[0;34m\u001B[0m\u001B[0m\n\u001B[1;32m     37\u001B[0m     \u001B[0mtarget_model\u001B[0m \u001B[0;34m=\u001B[0m \u001B[0mTensorflowCNN\u001B[0m\u001B[0;34m(\u001B[0m\u001B[0mfilter_list\u001B[0m\u001B[0;34m,\u001B[0m \u001B[0mlearning_rate\u001B[0m\u001B[0;34m)\u001B[0m\u001B[0;34m\u001B[0m\u001B[0;34m\u001B[0m\u001B[0m\n",
      "\u001B[0;32m<__array_function__ internals>\u001B[0m in \u001B[0;36mconcatenate\u001B[0;34m(*args, **kwargs)\u001B[0m\n",
      "\u001B[0;31mValueError\u001B[0m: setting an array element with a sequence."
     ]
    }
   ],
   "source": [
    "score = 0\n",
    "score += check(1, [4, 5], [[3,3]], 1e-3) * 5.0\n",
    "\n",
    "testset = tfds.load('cifar100', split='test')\n",
    "score += evaluate(testset) * 5.0"
   ]
  }
 ],
 "metadata": {
  "kernelspec": {
   "display_name": "Python 3",
   "language": "python",
   "name": "python3"
  },
  "language_info": {
   "codemirror_mode": {
    "name": "ipython",
    "version": 3
   },
   "file_extension": ".py",
   "mimetype": "text/x-python",
   "name": "python",
   "nbconvert_exporter": "python",
   "pygments_lexer": "ipython3",
   "version": "3.6.9"
  }
 },
 "nbformat": 4,
 "nbformat_minor": 4
}