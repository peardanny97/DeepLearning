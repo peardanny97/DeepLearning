{
 "cells": [
  {
   "cell_type": "code",
   "execution_count": 1,
   "metadata": {},
   "outputs": [],
   "source": [
    "import tensorflow as tf"
   ]
  },
  {
   "cell_type": "markdown",
   "metadata": {},
   "source": [
    "tensorflow 는 2.3.1 버전으로 업그레이드 후 작성하여 주시기 바랍니다. \\\n",
    "tensorflow1을 이용하고 싶으신 분은 tensorflow.compat.v1을 import에서 사용하시면 됩니다.\\\n",
    "같이 첨부된 cheatsheet.ipynb에 이번과제 수행시 필요한 기능들에 대해서만 사용예시들을 적어놓았으므로 참고하시면 도움이 될 듯 합니다."
   ]
  },
  {
   "cell_type": "markdown",
   "metadata": {},
   "source": [
    "# Problem 1"
   ]
  },
  {
   "cell_type": "markdown",
   "metadata": {},
   "source": [
    "TensorflowCNN 클래스의 함수들이 주어진 설명에 맞게 동작하도록 코드를 작성하십시오."
   ]
  },
  {
   "cell_type": "code",
   "execution_count": 11,
   "metadata": {},
   "outputs": [],
   "source": [
    "class TensorflowCNN(tf.Module):\n",
    "    def __init__(self, filter_list, learning_rate):\n",
    "        '''\n",
    "        filter_list를 저장해 놓고 __call__ 호출시 사용합니다.\n",
    "        filter_list의 마지막 텐서의 out channel수가 class의 개수가 됩니다. \n",
    "        learning_rate는 fit에서 training시에 사용합니다.\n",
    "        \n",
    "        Inputs: \n",
    "        - filter_list: [filter_height, filter_weight, in_channels, out_channels] 의 shape을 가진 텐서들의 리스트\n",
    "        - learning_rate: float 값으로 optimizer의 learning rate로 설정해 줍니다.\n",
    "        '''\n",
    "        return\n",
    "    \n",
    "    def __call__(self, images):\n",
    "        '''\n",
    "        init에서 저장해 놓은 tensor들을 filter로 하여 convolution operation을 수행합니다.\n",
    "        마지막에 1, 2 axis방향으로 reduce_mean을 수행하여 [batch_size, optdim]의 shape을 가지도록 하고 1 axis로 softmax를 수행합니다.\n",
    "        convolution이외의 opearation은 사용하지 않습니다.\n",
    "        \n",
    "        Inputs: \n",
    "        - images: [batch_size, height, width, channel]의 shape을 가진 tensor입니다.\n",
    "        \n",
    "        Returns: \n",
    "        - result: convolution operation을 수행한 결과로 [batch_size, optdim]의 shape을 가진 tensor입니다.\n",
    "        '''\n",
    "        return result\n",
    "    \n",
    "    def fit(self, images, labels, epochs):\n",
    "        '''\n",
    "        images, labels을 이용하여 epochs 번 업데이트를 수행합니다.\n",
    "        loss는 cross entropy를 이용하여 optimizer는 SGD를 이용합니다.\n",
    "        learning_rate는 init에서 저장한 값을 이용합니다.\n",
    "        \n",
    "        Inputs: \n",
    "        - images: [batch_size, height, width, channel]의 shape을 가진 tensor입니다.\n",
    "        - labels: [batch_size]의 shape을 가진 integer-valed tensor입니다. 0이상 클래스 수 미만의 값을 가집니다.\n",
    "        - epochs: integer값으로 update step수를 나타냅니다.\n",
    "        \n",
    "        Returns: \n",
    "        - losses: float의 리스트로 \n",
    "        '''\n",
    "        return losses\n",
    "    \n",
    "    def save(self):\n",
    "        '''\n",
    "        saved_model이 아닌 checkpoint를 이용하여 저장합니다.\n",
    "        '''\n",
    "        return\n",
    "    \n",
    "    def restore(self):\n",
    "        '''\n",
    "        마지막 save함수가 호출 되었을 때의 값으로 variable의 값들을 set해 줍니다.\n",
    "        '''\n",
    "        return"
   ]
  },
  {
   "cell_type": "markdown",
   "metadata": {},
   "source": [
    "# Problem 2"
   ]
  },
  {
   "cell_type": "markdown",
   "metadata": {},
   "source": [
    "cifar100 dataset에 대해서 tensorflow를 이용하여 모델을 작성하고 training하여서 tf.saved_model.save(model, 'model')을 통해 저장하십시오.\n",
    "- training이 완료된 model은 프로젝트 폴더 하위에 위치한 'model' 디렉토리에 저장되어 있어야 합니다.\n",
    "- loaded_model = tf.saved_model.load('model')의 방법을 통해서 불러 올 수 있어야 하고 불러온 모델의 accuracy가 0.5 이상이면 정답으로 처리하겠습니다.\n",
    "- **model를 training을 완료하고 저장후에는 \"반드시 주석처리\" 하여서 notebook import시에 실행이 되지 않도록 해 주세요.**"
   ]
  },
  {
   "cell_type": "markdown",
   "metadata": {},
   "source": [
    "# Submission"
   ]
  },
  {
   "cell_type": "markdown",
   "metadata": {},
   "source": [
    "프로젝트 폴더를 HW3_20XX_XXXXX.zip으로 HW3_본인학번.zip 압축하여서 etl을 통해 제출하시면 됩니다.\\\n",
    "**notebook을 import하여 정상동작여부를 확인하므로 import문을 제외하고는 notebook import시에 실행되는 코드가 없도록 확인해 주세요**"
   ]
  }
 ],
 "metadata": {
  "kernelspec": {
   "display_name": "Python 3",
   "language": "python",
   "name": "python3"
  },
  "language_info": {
   "codemirror_mode": {
    "name": "ipython",
    "version": 3
   },
   "file_extension": ".py",
   "mimetype": "text/x-python",
   "name": "python",
   "nbconvert_exporter": "python",
   "pygments_lexer": "ipython3",
   "version": "3.6.9"
  }
 },
 "nbformat": 4,
 "nbformat_minor": 4
}
